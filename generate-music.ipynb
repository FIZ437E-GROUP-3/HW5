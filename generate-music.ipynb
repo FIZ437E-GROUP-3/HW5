{
 "cells": [
  {
   "cell_type": "code",
   "execution_count": 1,
   "id": "80559ac1-d7dc-4ab4-b672-a294a2abbf50",
   "metadata": {},
   "outputs": [],
   "source": [
    "import collections\n",
    "import datetime\n",
    "import fluidsynth\n",
    "import glob\n",
    "import numpy as np\n",
    "import pathlib\n",
    "import pandas as pd\n",
    "import pretty_midi\n",
    "import seaborn as sns\n",
    "import tensorflow as tf\n",
    "\n",
    "from IPython import display\n",
    "from matplotlib import pyplot as plt\n",
    "from typing import Dict, List, Optional, Sequence, Tuple"
   ]
  },
  {
   "cell_type": "code",
   "execution_count": 2,
   "id": "8fb019b8-e125-4f56-8d53-60b52f17355b",
   "metadata": {},
   "outputs": [
    {
     "name": "stdout",
     "output_type": "stream",
     "text": [
      "Number of files: 92\n"
     ]
    }
   ],
   "source": [
    "filenames = glob.glob(str('midi_files/*.mid'))\n",
    "print('Number of files:', len(filenames))"
   ]
  },
  {
   "cell_type": "code",
   "execution_count": 3,
   "id": "6f919f9c-5880-4530-af4c-53edb732e3ec",
   "metadata": {},
   "outputs": [],
   "source": [
    "def midi_to_notes(midi_file: str) -> pd.DataFrame:\n",
    "    pm = pretty_midi.PrettyMIDI(midi_file)\n",
    "    instrument = pm.instruments[0]\n",
    "    notes = collections.defaultdict(list)\n",
    "\n",
    "    # Sort the notes by start time\n",
    "    sorted_notes = sorted(instrument.notes, key=lambda note: note.start)\n",
    "    prev_start = sorted_notes[0].start\n",
    "\n",
    "    for note in sorted_notes:\n",
    "        start = note.start\n",
    "        end = note.end\n",
    "        notes['pitch'].append(note.pitch)\n",
    "        notes['start'].append(start)\n",
    "        notes['end'].append(end)\n",
    "        notes['step'].append(start - prev_start)\n",
    "        notes['duration'].append(end - start)\n",
    "        prev_start = start\n",
    "\n",
    "    return pd.DataFrame({name: np.array(value) for name, value in notes.items()})"
   ]
  },
  {
   "cell_type": "code",
   "execution_count": 5,
   "id": "fecc545f-d2d2-4dcb-a52c-80375d2ea17c",
   "metadata": {},
   "outputs": [
    {
     "name": "stdout",
     "output_type": "stream",
     "text": [
      "midi_files\\8.mid\n"
     ]
    }
   ],
   "source": [
    "sample_file = filenames[1]\n",
    "print(sample_file)"
   ]
  },
  {
   "cell_type": "code",
   "execution_count": 6,
   "id": "e64ad9ce-a8f0-4597-a189-3b9f134afea4",
   "metadata": {},
   "outputs": [
    {
     "data": {
      "text/html": [
       "<div>\n",
       "<style scoped>\n",
       "    .dataframe tbody tr th:only-of-type {\n",
       "        vertical-align: middle;\n",
       "    }\n",
       "\n",
       "    .dataframe tbody tr th {\n",
       "        vertical-align: top;\n",
       "    }\n",
       "\n",
       "    .dataframe thead th {\n",
       "        text-align: right;\n",
       "    }\n",
       "</style>\n",
       "<table border=\"1\" class=\"dataframe\">\n",
       "  <thead>\n",
       "    <tr style=\"text-align: right;\">\n",
       "      <th></th>\n",
       "      <th>pitch</th>\n",
       "      <th>start</th>\n",
       "      <th>end</th>\n",
       "      <th>step</th>\n",
       "      <th>duration</th>\n",
       "    </tr>\n",
       "  </thead>\n",
       "  <tbody>\n",
       "    <tr>\n",
       "      <th>0</th>\n",
       "      <td>72</td>\n",
       "      <td>0.000000</td>\n",
       "      <td>0.428571</td>\n",
       "      <td>0.000000</td>\n",
       "      <td>0.428571</td>\n",
       "    </tr>\n",
       "    <tr>\n",
       "      <th>1</th>\n",
       "      <td>72</td>\n",
       "      <td>0.000000</td>\n",
       "      <td>0.428571</td>\n",
       "      <td>0.000000</td>\n",
       "      <td>0.428571</td>\n",
       "    </tr>\n",
       "    <tr>\n",
       "      <th>2</th>\n",
       "      <td>64</td>\n",
       "      <td>0.000000</td>\n",
       "      <td>0.571428</td>\n",
       "      <td>0.000000</td>\n",
       "      <td>0.571428</td>\n",
       "    </tr>\n",
       "    <tr>\n",
       "      <th>3</th>\n",
       "      <td>67</td>\n",
       "      <td>0.642857</td>\n",
       "      <td>0.745535</td>\n",
       "      <td>0.642857</td>\n",
       "      <td>0.102678</td>\n",
       "    </tr>\n",
       "    <tr>\n",
       "      <th>4</th>\n",
       "      <td>72</td>\n",
       "      <td>0.749999</td>\n",
       "      <td>0.852678</td>\n",
       "      <td>0.107143</td>\n",
       "      <td>0.102678</td>\n",
       "    </tr>\n",
       "    <tr>\n",
       "      <th>...</th>\n",
       "      <td>...</td>\n",
       "      <td>...</td>\n",
       "      <td>...</td>\n",
       "      <td>...</td>\n",
       "      <td>...</td>\n",
       "    </tr>\n",
       "    <tr>\n",
       "      <th>169</th>\n",
       "      <td>76</td>\n",
       "      <td>34.285680</td>\n",
       "      <td>35.142822</td>\n",
       "      <td>0.000000</td>\n",
       "      <td>0.857142</td>\n",
       "    </tr>\n",
       "    <tr>\n",
       "      <th>170</th>\n",
       "      <td>79</td>\n",
       "      <td>34.285680</td>\n",
       "      <td>35.142822</td>\n",
       "      <td>0.000000</td>\n",
       "      <td>0.857142</td>\n",
       "    </tr>\n",
       "    <tr>\n",
       "      <th>171</th>\n",
       "      <td>79</td>\n",
       "      <td>34.285680</td>\n",
       "      <td>35.142822</td>\n",
       "      <td>0.000000</td>\n",
       "      <td>0.857142</td>\n",
       "    </tr>\n",
       "    <tr>\n",
       "      <th>172</th>\n",
       "      <td>60</td>\n",
       "      <td>34.285680</td>\n",
       "      <td>35.433000</td>\n",
       "      <td>0.000000</td>\n",
       "      <td>1.147320</td>\n",
       "    </tr>\n",
       "    <tr>\n",
       "      <th>173</th>\n",
       "      <td>55</td>\n",
       "      <td>34.285680</td>\n",
       "      <td>35.433000</td>\n",
       "      <td>0.000000</td>\n",
       "      <td>1.147320</td>\n",
       "    </tr>\n",
       "  </tbody>\n",
       "</table>\n",
       "<p>174 rows × 5 columns</p>\n",
       "</div>"
      ],
      "text/plain": [
       "     pitch      start        end      step  duration\n",
       "0       72   0.000000   0.428571  0.000000  0.428571\n",
       "1       72   0.000000   0.428571  0.000000  0.428571\n",
       "2       64   0.000000   0.571428  0.000000  0.571428\n",
       "3       67   0.642857   0.745535  0.642857  0.102678\n",
       "4       72   0.749999   0.852678  0.107143  0.102678\n",
       "..     ...        ...        ...       ...       ...\n",
       "169     76  34.285680  35.142822  0.000000  0.857142\n",
       "170     79  34.285680  35.142822  0.000000  0.857142\n",
       "171     79  34.285680  35.142822  0.000000  0.857142\n",
       "172     60  34.285680  35.433000  0.000000  1.147320\n",
       "173     55  34.285680  35.433000  0.000000  1.147320\n",
       "\n",
       "[174 rows x 5 columns]"
      ]
     },
     "execution_count": 6,
     "metadata": {},
     "output_type": "execute_result"
    }
   ],
   "source": [
    "raw_notes = midi_to_notes(sample_file)\n",
    "raw_notes"
   ]
  },
  {
   "cell_type": "code",
   "execution_count": 7,
   "id": "4f292cb7-0421-47e3-a279-e4a8cde62acb",
   "metadata": {},
   "outputs": [
    {
     "data": {
      "text/plain": [
       "array(['C5', 'C5', 'E4', 'G4', 'C5', 'D5', 'A#4', 'D4', 'F4', 'A#4'],\n",
       "      dtype='<U3')"
      ]
     },
     "execution_count": 7,
     "metadata": {},
     "output_type": "execute_result"
    }
   ],
   "source": [
    "get_note_names = np.vectorize(pretty_midi.note_number_to_name)\n",
    "sample_note_names = get_note_names(raw_notes['pitch'])\n",
    "sample_note_names[:10]"
   ]
  },
  {
   "cell_type": "code",
   "execution_count": 8,
   "id": "96e6d16c-b5ba-42bf-88a7-1e7d36e3c275",
   "metadata": {},
   "outputs": [],
   "source": [
    "def plot_piano_roll(notes: pd.DataFrame, count: Optional[int] = None):\n",
    "    if count:\n",
    "        title = f'First {count} notes'\n",
    "    else:\n",
    "        title = f'Whole track'\n",
    "        count = len(notes['pitch'])\n",
    "        plt.figure(figsize=(20, 4))\n",
    "        plot_pitch = np.stack([notes['pitch'], notes['pitch']], axis=0)\n",
    "        plot_start_stop = np.stack([notes['start'], notes['end']], axis=0)\n",
    "        plt.plot(\n",
    "          plot_start_stop[:, :count], plot_pitch[:, :count], color=\"b\", marker=\".\")\n",
    "        plt.xlabel('Time [s]')\n",
    "        plt.ylabel('Pitch')\n",
    "        _ = plt.title(title)"
   ]
  },
  {
   "cell_type": "code",
   "execution_count": 9,
   "id": "68a2bd71-ee46-4820-94d6-9738600737b1",
   "metadata": {},
   "outputs": [
    {
     "data": {
      "image/png": "[encoded data removed]",
      "text/plain": [
       "<Figure size 1440x288 with 1 Axes>"
      ]
     },
     "metadata": {
      "needs_background": "light"
     },
     "output_type": "display_data"
    }
   ],
   "source": [
    "plot_piano_roll(raw_notes)"
   ]
  },
  {
   "cell_type": "code",
   "execution_count": 10,
   "id": "5bc07e0e-1207-4f3c-9902-9040e143aa0a",
   "metadata": {},
   "outputs": [],
   "source": [
    "def plot_distributions(notes: pd.DataFrame, drop_percentile=2.5):\n",
    "    plt.figure(figsize=[15, 5])\n",
    "    plt.subplot(1, 3, 1)\n",
    "    sns.histplot(notes, x=\"pitch\", bins=20)\n",
    "\n",
    "    plt.subplot(1, 3, 2)\n",
    "    max_step = np.percentile(notes['step'], 100 - drop_percentile)\n",
    "    sns.histplot(notes, x=\"step\", bins=np.linspace(0, max_step, 21))\n",
    "\n",
    "    plt.subplot(1, 3, 3)\n",
    "    max_duration = np.percentile(notes['duration'], 100 - drop_percentile)\n",
    "    sns.histplot(notes, x=\"duration\", bins=np.linspace(0, max_duration, 21))"
   ]
  },
  {
   "cell_type": "code",
   "execution_count": 11,
   "id": "b34c99af-674c-4c41-ac6e-caf7f54c5ba0",
   "metadata": {},
   "outputs": [
    {
     "data": {
      "image/png": "[encoded data removed]",
      "text/plain": [
       "<Figure size 1080x360 with 3 Axes>"
      ]
     },
     "metadata": {
      "needs_background": "light"
     },
     "output_type": "display_data"
    }
   ],
   "source": [
    "plot_distributions(raw_notes)"
   ]
  },
  {
   "cell_type": "code",
   "execution_count": 12,
   "id": "204d60ab-6af4-4340-99ac-b1500efdbe02",
   "metadata": {},
   "outputs": [],
   "source": [
    "def notes_to_midi(\n",
    "  notes: pd.DataFrame,\n",
    "  out_file: str, \n",
    "  instrument_name: str,\n",
    "  velocity: int = 100,  # note loudness\n",
    ") -> pretty_midi.PrettyMIDI:\n",
    "\n",
    "    pm = pretty_midi.PrettyMIDI()\n",
    "    instrument = pretty_midi.Instrument(\n",
    "      program=pretty_midi.instrument_name_to_program(\n",
    "          instrument_name))\n",
    "\n",
    "    prev_start = 0\n",
    "    for i, note in notes.iterrows():\n",
    "        start = float(prev_start + note['step'])\n",
    "        end = float(start + note['duration'])\n",
    "        note = pretty_midi.Note(\n",
    "            velocity=velocity,\n",
    "            pitch=int(note['pitch']),\n",
    "            start=start,\n",
    "            end=end,\n",
    "        )\n",
    "        instrument.notes.append(note)\n",
    "        prev_start = start\n",
    "\n",
    "    pm.instruments.append(instrument)\n",
    "    pm.write(out_file)\n",
    "    return pm"
   ]
  },
  {
   "cell_type": "code",
   "execution_count": 13,
   "id": "02f507a5-fb60-42ce-a9bc-2863500f4fd0",
   "metadata": {},
   "outputs": [],
   "source": [
    "num_files = 5\n",
    "all_notes = []\n",
    "for f in filenames[:num_files]:\n",
    "    notes = midi_to_notes(f)\n",
    "    all_notes.append(notes)\n",
    "all_notes = pd.concat(all_notes)"
   ]
  },
  {
   "cell_type": "code",
   "execution_count": 14,
   "id": "052ada1d-d70a-4346-b5fc-970e69c0e077",
   "metadata": {},
   "outputs": [
    {
     "name": "stdout",
     "output_type": "stream",
     "text": [
      "Number of notes parsed: 3099\n"
     ]
    }
   ],
   "source": [
    "n_notes = len(all_notes)\n",
    "print('Number of notes parsed:', n_notes)"
   ]
  },
  {
   "cell_type": "code",
   "execution_count": 15,
   "id": "f5e9af59-1b55-4fce-aa9e-aaf1280e7e7f",
   "metadata": {},
   "outputs": [],
   "source": [
    "key_order = ['pitch', 'step', 'duration']\n",
    "train_notes = np.stack([all_notes[key] for key in key_order], axis=1)"
   ]
  },
  {
   "cell_type": "code",
   "execution_count": 16,
   "id": "4001b7d9-f32c-46c3-bc8c-a59dd67ce30c",
   "metadata": {},
   "outputs": [
    {
     "data": {
      "text/plain": [
       "TensorSpec(shape=(3,), dtype=tf.float64, name=None)"
      ]
     },
     "execution_count": 16,
     "metadata": {},
     "output_type": "execute_result"
    }
   ],
   "source": [
    "notes_ds = tf.data.Dataset.from_tensor_slices(train_notes)\n",
    "notes_ds.element_spec"
   ]
  },
  {
   "cell_type": "code",
   "execution_count": 17,
   "id": "96796a06-8c9f-4f43-8bc7-2f5bf14d93ad",
   "metadata": {},
   "outputs": [],
   "source": [
    "def create_sequences(\n",
    "    dataset: tf.data.Dataset, \n",
    "    seq_length: int,\n",
    "    vocab_size = 128,\n",
    ") -> tf.data.Dataset:\n",
    "  \n",
    "    \"\"\"Returns TF Dataset of sequence and label examples.\"\"\"\n",
    "    seq_length = seq_length+1\n",
    "\n",
    "  # Take 1 extra for the labels\n",
    "    windows = dataset.window(seq_length, shift=1, stride=1,\n",
    "                              drop_remainder=True)\n",
    "\n",
    "  # `flat_map` flattens the\" dataset of datasets\" into a dataset of tensors\n",
    "    flatten = lambda x: x.batch(seq_length, drop_remainder=True)\n",
    "    sequences = windows.flat_map(flatten)\n",
    "\n",
    "  # Normalize note pitch\n",
    "    def scale_pitch(x):\n",
    "        x = x/[vocab_size,1.0,1.0]\n",
    "        return x\n",
    "\n",
    "  # Split the labels\n",
    "    def split_labels(sequences):\n",
    "        inputs = sequences[:-1]\n",
    "        labels_dense = sequences[-1]\n",
    "        labels = {key:labels_dense[i] for i,key in enumerate(key_order)}\n",
    "\n",
    "        return scale_pitch(inputs), labels\n",
    "\n",
    "    return sequences.map(split_labels, num_parallel_calls=tf.data.AUTOTUNE)"
   ]
  },
  {
   "cell_type": "code",
   "execution_count": 18,
   "id": "c956c9c3-8b7e-4a2f-9b2d-e8b66595cb0b",
   "metadata": {},
   "outputs": [
    {
     "data": {
      "text/plain": [
       "(TensorSpec(shape=(25, 3), dtype=tf.float64, name=None),\n",
       " {'pitch': TensorSpec(shape=(), dtype=tf.float64, name=None),\n",
       "  'step': TensorSpec(shape=(), dtype=tf.float64, name=None),\n",
       "  'duration': TensorSpec(shape=(), dtype=tf.float64, name=None)})"
      ]
     },
     "execution_count": 18,
     "metadata": {},
     "output_type": "execute_result"
    }
   ],
   "source": [
    "seq_length = 25\n",
    "vocab_size = 128\n",
    "seq_ds = create_sequences(notes_ds, seq_length, vocab_size)\n",
    "seq_ds.element_spec"
   ]
  },
  {
   "cell_type": "code",
   "execution_count": 19,
   "id": "7aef2d88-1fc3-446f-918a-3ec7da394f86",
   "metadata": {},
   "outputs": [
    {
     "name": "stdout",
     "output_type": "stream",
     "text": [
      "sequence shape: (25, 3)\n",
      "sequence elements (first 10): tf.Tensor(\n",
      "[[0.40625   0.        0.454545 ]\n",
      " [0.4453125 0.        0.454545 ]\n",
      " [0.40625   0.545454  0.454545 ]\n",
      " [0.4453125 0.        0.454545 ]\n",
      " [0.40625   1.636362  0.454545 ]\n",
      " [0.4609375 0.        0.454545 ]\n",
      " [0.40625   0.545454  0.454545 ]\n",
      " [0.4609375 0.        0.454545 ]\n",
      " [0.40625   1.636362  0.454545 ]\n",
      " [0.46875   0.        0.454545 ]], shape=(10, 3), dtype=float64)\n",
      "\n",
      "target: {'pitch': <tf.Tensor: shape=(), dtype=float64, numpy=81.0>, 'step': <tf.Tensor: shape=(), dtype=float64, numpy=0.06818174999999904>, 'duration': <tf.Tensor: shape=(), dtype=float64, numpy=0.4545450000000013>}\n"
     ]
    }
   ],
   "source": [
    "for seq, target in seq_ds.take(1):\n",
    "    print('sequence shape:', seq.shape)\n",
    "    print('sequence elements (first 10):', seq[0: 10])\n",
    "    print()\n",
    "    print('target:', target)"
   ]
  },
  {
   "cell_type": "code",
   "execution_count": 20,
   "id": "a2216607-01a3-4ece-87f5-8c67eafbcb53",
   "metadata": {},
   "outputs": [],
   "source": [
    "batch_size = 64\n",
    "buffer_size = n_notes - seq_length  # the number of items in the dataset\n",
    "train_ds = (seq_ds\n",
    "            .shuffle(buffer_size)\n",
    "            .batch(batch_size, drop_remainder=True)\n",
    "            .cache()\n",
    "            .prefetch(tf.data.experimental.AUTOTUNE))"
   ]
  },
  {
   "cell_type": "code",
   "execution_count": 21,
   "id": "b19da3f7-f9dc-427a-832a-77970cd2bec9",
   "metadata": {},
   "outputs": [],
   "source": [
    "def mse_with_positive_pressure(y_true: tf.Tensor, y_pred: tf.Tensor):\n",
    "    mse = (y_true - y_pred) ** 2\n",
    "    positive_pressure = 10 * tf.maximum(-y_pred, 0.0)\n",
    "    return tf.reduce_mean(mse + positive_pressure)"
   ]
  },
  {
   "cell_type": "code",
   "execution_count": 22,
   "id": "054789b7-827f-40d0-ac93-c4d2335e950d",
   "metadata": {},
   "outputs": [
    {
     "name": "stdout",
     "output_type": "stream",
     "text": [
      "Model: \"model\"\n",
      "__________________________________________________________________________________________________\n",
      " Layer (type)                   Output Shape         Param #     Connected to                     \n",
      "==================================================================================================\n",
      " input_1 (InputLayer)           [(None, 25, 3)]      0           []                               \n",
      "                                                                                                  \n",
      " lstm (LSTM)                    (None, 128)          67584       ['input_1[0][0]']                \n",
      "                                                                                                  \n",
      " duration (Dense)               (None, 1)            129         ['lstm[0][0]']                   \n",
      "                                                                                                  \n",
      " pitch (Dense)                  (None, 128)          16512       ['lstm[0][0]']                   \n",
      "                                                                                                  \n",
      " step (Dense)                   (None, 1)            129         ['lstm[0][0]']                   \n",
      "                                                                                                  \n",
      "==================================================================================================\n",
      "Total params: 84,354\n",
      "Trainable params: 84,354\n",
      "Non-trainable params: 0\n",
      "__________________________________________________________________________________________________\n"
     ]
    }
   ],
   "source": [
    "input_shape = (seq_length, 3)\n",
    "learning_rate = 0.005\n",
    "\n",
    "inputs = tf.keras.Input(input_shape)\n",
    "x = tf.keras.layers.LSTM(128)(inputs)\n",
    "\n",
    "outputs = {\n",
    "  'pitch': tf.keras.layers.Dense(128, name='pitch')(x),\n",
    "  'step': tf.keras.layers.Dense(1, name='step')(x),\n",
    "  'duration': tf.keras.layers.Dense(1, name='duration')(x),\n",
    "}\n",
    "\n",
    "model = tf.keras.Model(inputs, outputs)\n",
    "\n",
    "loss = {\n",
    "      'pitch': tf.keras.losses.SparseCategoricalCrossentropy(\n",
    "          from_logits=True),\n",
    "      'step': mse_with_positive_pressure,\n",
    "      'duration': mse_with_positive_pressure,\n",
    "}\n",
    "\n",
    "optimizer = tf.keras.optimizers.Adam(learning_rate=learning_rate)\n",
    "\n",
    "model.compile(loss=loss, optimizer=optimizer)\n",
    "\n",
    "model.summary()"
   ]
  },
  {
   "cell_type": "code",
   "execution_count": 23,
   "id": "12af1f4d-12be-4354-aa51-856134ab8c39",
   "metadata": {},
   "outputs": [
    {
     "name": "stdout",
     "output_type": "stream",
     "text": [
      "48/48 [==============================] - 2s 8ms/step - loss: 5.7963 - duration_loss: 0.5289 - pitch_loss: 4.8595 - step_loss: 0.4079\n"
     ]
    },
    {
     "data": {
      "text/plain": [
       "{'loss': 5.796345233917236,\n",
       " 'duration_loss': 0.528900146484375,\n",
       " 'pitch_loss': 4.859520435333252,\n",
       " 'step_loss': 0.407924085855484}"
      ]
     },
     "execution_count": 23,
     "metadata": {},
     "output_type": "execute_result"
    }
   ],
   "source": [
    "losses = model.evaluate(train_ds, return_dict=True)\n",
    "losses"
   ]
  },
  {
   "cell_type": "code",
   "execution_count": 35,
   "id": "66435e2e-702e-4bd6-a10a-a6c2055a6f75",
   "metadata": {},
   "outputs": [],
   "source": [
    "model.compile(\n",
    "    loss=loss,\n",
    "    loss_weights={\n",
    "        'pitch': 0.05,\n",
    "        'step': 0.5,\n",
    "        'duration':0.5,\n",
    "    },\n",
    "    optimizer=optimizer,\n",
    ")"
   ]
  },
  {
   "cell_type": "code",
   "execution_count": 36,
   "id": "b18faec3-d9b0-4d5a-892f-23ed6ee1b25d",
   "metadata": {},
   "outputs": [
    {
     "name": "stdout",
     "output_type": "stream",
     "text": [
      "48/48 [==============================] - 1s 7ms/step - loss: 0.2751 - duration_loss: 0.1528 - pitch_loss: 2.8326 - step_loss: 0.1141\n"
     ]
    },
    {
     "data": {
      "text/plain": [
       "{'loss': 0.2750530242919922,\n",
       " 'duration_loss': 0.15277208387851715,\n",
       " 'pitch_loss': 2.832595109939575,\n",
       " 'step_loss': 0.11407455056905746}"
      ]
     },
     "execution_count": 36,
     "metadata": {},
     "output_type": "execute_result"
    }
   ],
   "source": [
    "model.evaluate(train_ds, return_dict=True)"
   ]
  },
  {
   "cell_type": "code",
   "execution_count": 37,
   "id": "15c4443b-3b4d-4531-b38b-2fb0a032dc92",
   "metadata": {},
   "outputs": [],
   "source": [
    "callbacks = [\n",
    "    tf.keras.callbacks.ModelCheckpoint(\n",
    "        filepath='./training_checkpoints/ckpt_{epoch}',\n",
    "        save_weights_only=True),\n",
    "    tf.keras.callbacks.EarlyStopping(\n",
    "        monitor='loss',\n",
    "        patience=5,\n",
    "        verbose=1,\n",
    "        restore_best_weights=True),\n",
    "]"
   ]
  },
  {
   "cell_type": "code",
   "execution_count": 38,
   "id": "af444a49-b3cf-44a0-a245-44d9825ee9e9",
   "metadata": {},
   "outputs": [
    {
     "name": "stdout",
     "output_type": "stream",
     "text": [
      "Epoch 1/10\n",
      "48/48 [==============================] - 2s 18ms/step - loss: 0.2708 - duration_loss: 0.1526 - pitch_loss: 2.8165 - step_loss: 0.1074\n",
      "Epoch 2/10\n",
      "48/48 [==============================] - 1s 18ms/step - loss: 0.2621 - duration_loss: 0.1500 - pitch_loss: 2.7260 - step_loss: 0.1016\n",
      "Epoch 3/10\n",
      "48/48 [==============================] - 1s 19ms/step - loss: 0.2581 - duration_loss: 0.1461 - pitch_loss: 2.6945 - step_loss: 0.1006\n",
      "Epoch 4/10\n",
      "48/48 [==============================] - 1s 19ms/step - loss: 0.2557 - duration_loss: 0.1439 - pitch_loss: 2.6602 - step_loss: 0.1015\n",
      "Epoch 5/10\n",
      "48/48 [==============================] - 1s 19ms/step - loss: 0.2506 - duration_loss: 0.1408 - pitch_loss: 2.6330 - step_loss: 0.0970\n",
      "Epoch 6/10\n",
      "48/48 [==============================] - 1s 19ms/step - loss: 0.2490 - duration_loss: 0.1398 - pitch_loss: 2.6120 - step_loss: 0.0970\n",
      "Epoch 7/10\n",
      "48/48 [==============================] - 1s 19ms/step - loss: 0.2470 - duration_loss: 0.1374 - pitch_loss: 2.6057 - step_loss: 0.0960\n",
      "Epoch 8/10\n",
      "48/48 [==============================] - 1s 19ms/step - loss: 0.2422 - duration_loss: 0.1352 - pitch_loss: 2.5704 - step_loss: 0.0922\n",
      "Epoch 9/10\n",
      "48/48 [==============================] - 1s 20ms/step - loss: 0.2382 - duration_loss: 0.1316 - pitch_loss: 2.5424 - step_loss: 0.0906\n",
      "Epoch 10/10\n",
      "48/48 [==============================] - 1s 18ms/step - loss: 0.2350 - duration_loss: 0.1292 - pitch_loss: 2.5165 - step_loss: 0.0892\n",
      "Wall time: 9.96 s\n"
     ]
    }
   ],
   "source": [
    "%%time\n",
    "epochs = 10\n",
    "\n",
    "history = model.fit(\n",
    "    train_ds,\n",
    "    epochs=epochs,\n",
    "    callbacks=callbacks,\n",
    ")"
   ]
  },
  {
   "cell_type": "code",
   "execution_count": 39,
   "id": "fb7b8e45-3338-4667-923b-4f229509974d",
   "metadata": {},
   "outputs": [
    {
     "data": {
      "image/png": "[encoded data removed]",
      "text/plain": [
       "<Figure size 432x288 with 1 Axes>"
      ]
     },
     "metadata": {
      "needs_background": "light"
     },
     "output_type": "display_data"
    }
   ],
   "source": [
    "plt.plot(history.epoch, history.history['loss'], label='total loss')\n",
    "plt.show()"
   ]
  },
  {
   "cell_type": "code",
   "execution_count": 40,
   "id": "03685d40-8258-475c-b6e0-1de36280d7f9",
   "metadata": {},
   "outputs": [],
   "source": [
    "def predict_next_note(\n",
    "    notes: np.ndarray, \n",
    "    keras_model: tf.keras.Model, \n",
    "    temperature: float = 1.0) -> int:\n",
    "    \"\"\"Generates a note IDs using a trained sequence model.\"\"\"\n",
    "\n",
    "    assert temperature > 0\n",
    "\n",
    "  # Add batch dimension\n",
    "    inputs = tf.expand_dims(notes, 0)\n",
    "\n",
    "    predictions = model.predict(inputs)\n",
    "    pitch_logits = predictions['pitch']\n",
    "    step = predictions['step']\n",
    "    duration = predictions['duration']\n",
    "\n",
    "    pitch_logits /= temperature\n",
    "    pitch = tf.random.categorical(pitch_logits, num_samples=1)\n",
    "    pitch = tf.squeeze(pitch, axis=-1)\n",
    "    duration = tf.squeeze(duration, axis=-1)\n",
    "    step = tf.squeeze(step, axis=-1)\n",
    "\n",
    "    # `step` and `duration` values should be non-negative\n",
    "    step = tf.maximum(0, step)\n",
    "    duration = tf.maximum(0, duration)\n",
    "\n",
    "    return int(pitch), float(step), float(duration)"
   ]
  },
  {
   "cell_type": "code",
   "execution_count": 41,
   "id": "3da5aff8-2e5c-4e87-a4b7-e85b250aac6c",
   "metadata": {},
   "outputs": [],
   "source": [
    "temperature = 5.0\n",
    "num_predictions = 30\n",
    "\n",
    "sample_notes = np.stack([raw_notes[key] for key in key_order], axis=1)\n",
    "\n",
    "# The initial sequence of notes; pitch is normalized similar to training\n",
    "# sequences\n",
    "input_notes = (\n",
    "    sample_notes[:seq_length] / np.array([vocab_size, 1, 1]))\n",
    "\n",
    "generated_notes = []\n",
    "prev_start = 0\n",
    "for _ in range(num_predictions):\n",
    "    pitch, step, duration = predict_next_note(input_notes, model, temperature)\n",
    "    start = prev_start + step\n",
    "    end = start + duration\n",
    "    input_note = (pitch, step, duration)\n",
    "    generated_notes.append((*input_note, start, end))\n",
    "    input_notes = np.delete(input_notes, 0, axis=0)\n",
    "    input_notes = np.append(input_notes, np.expand_dims(input_note, 0), axis=0)\n",
    "    prev_start = start\n",
    "\n",
    "generated_notes = pd.DataFrame(generated_notes, columns=(*key_order, 'start', 'end'))"
   ]
  },
  {
   "cell_type": "code",
   "execution_count": 42,
   "id": "a229d718-0b66-4971-ba60-ec9762235659",
   "metadata": {},
   "outputs": [
    {
     "data": {
      "text/html": [
       "<div>\n",
       "<style scoped>\n",
       "    .dataframe tbody tr th:only-of-type {\n",
       "        vertical-align: middle;\n",
       "    }\n",
       "\n",
       "    .dataframe tbody tr th {\n",
       "        vertical-align: top;\n",
       "    }\n",
       "\n",
       "    .dataframe thead th {\n",
       "        text-align: right;\n",
       "    }\n",
       "</style>\n",
       "<table border=\"1\" class=\"dataframe\">\n",
       "  <thead>\n",
       "    <tr style=\"text-align: right;\">\n",
       "      <th></th>\n",
       "      <th>pitch</th>\n",
       "      <th>step</th>\n",
       "      <th>duration</th>\n",
       "      <th>start</th>\n",
       "      <th>end</th>\n",
       "    </tr>\n",
       "  </thead>\n",
       "  <tbody>\n",
       "    <tr>\n",
       "      <th>0</th>\n",
       "      <td>63</td>\n",
       "      <td>0.151963</td>\n",
       "      <td>0.340374</td>\n",
       "      <td>0.151963</td>\n",
       "      <td>0.492337</td>\n",
       "    </tr>\n",
       "    <tr>\n",
       "      <th>1</th>\n",
       "      <td>81</td>\n",
       "      <td>1.542991</td>\n",
       "      <td>0.070376</td>\n",
       "      <td>1.694954</td>\n",
       "      <td>1.765330</td>\n",
       "    </tr>\n",
       "    <tr>\n",
       "      <th>2</th>\n",
       "      <td>82</td>\n",
       "      <td>1.740641</td>\n",
       "      <td>0.099049</td>\n",
       "      <td>3.435595</td>\n",
       "      <td>3.534644</td>\n",
       "    </tr>\n",
       "    <tr>\n",
       "      <th>3</th>\n",
       "      <td>33</td>\n",
       "      <td>1.803161</td>\n",
       "      <td>0.093092</td>\n",
       "      <td>5.238756</td>\n",
       "      <td>5.331848</td>\n",
       "    </tr>\n",
       "    <tr>\n",
       "      <th>4</th>\n",
       "      <td>46</td>\n",
       "      <td>1.210896</td>\n",
       "      <td>0.021931</td>\n",
       "      <td>6.449652</td>\n",
       "      <td>6.471583</td>\n",
       "    </tr>\n",
       "    <tr>\n",
       "      <th>5</th>\n",
       "      <td>65</td>\n",
       "      <td>1.668717</td>\n",
       "      <td>0.000784</td>\n",
       "      <td>8.118369</td>\n",
       "      <td>8.119153</td>\n",
       "    </tr>\n",
       "    <tr>\n",
       "      <th>6</th>\n",
       "      <td>82</td>\n",
       "      <td>1.762597</td>\n",
       "      <td>0.039167</td>\n",
       "      <td>9.880966</td>\n",
       "      <td>9.920132</td>\n",
       "    </tr>\n",
       "    <tr>\n",
       "      <th>7</th>\n",
       "      <td>48</td>\n",
       "      <td>1.830142</td>\n",
       "      <td>0.065905</td>\n",
       "      <td>11.711107</td>\n",
       "      <td>11.777012</td>\n",
       "    </tr>\n",
       "    <tr>\n",
       "      <th>8</th>\n",
       "      <td>69</td>\n",
       "      <td>1.669330</td>\n",
       "      <td>0.008998</td>\n",
       "      <td>13.380437</td>\n",
       "      <td>13.389435</td>\n",
       "    </tr>\n",
       "    <tr>\n",
       "      <th>9</th>\n",
       "      <td>69</td>\n",
       "      <td>1.784359</td>\n",
       "      <td>0.046828</td>\n",
       "      <td>15.164795</td>\n",
       "      <td>15.211623</td>\n",
       "    </tr>\n",
       "  </tbody>\n",
       "</table>\n",
       "</div>"
      ],
      "text/plain": [
       "   pitch      step  duration      start        end\n",
       "0     63  0.151963  0.340374   0.151963   0.492337\n",
       "1     81  1.542991  0.070376   1.694954   1.765330\n",
       "2     82  1.740641  0.099049   3.435595   3.534644\n",
       "3     33  1.803161  0.093092   5.238756   5.331848\n",
       "4     46  1.210896  0.021931   6.449652   6.471583\n",
       "5     65  1.668717  0.000784   8.118369   8.119153\n",
       "6     82  1.762597  0.039167   9.880966   9.920132\n",
       "7     48  1.830142  0.065905  11.711107  11.777012\n",
       "8     69  1.669330  0.008998  13.380437  13.389435\n",
       "9     69  1.784359  0.046828  15.164795  15.211623"
      ]
     },
     "execution_count": 42,
     "metadata": {},
     "output_type": "execute_result"
    }
   ],
   "source": [
    "generated_notes.head(10)"
   ]
  },
  {
   "cell_type": "code",
   "execution_count": 43,
   "id": "9b076981-8542-4f10-8307-1498c003e1a6",
   "metadata": {},
   "outputs": [],
   "source": [
    "out_file = 'output.mid'\n",
    "out_pm = notes_to_midi(\n",
    "    generated_notes, out_file=out_file, instrument_name='Acoustic Grand Piano')"
   ]
  },
  {
   "cell_type": "code",
   "execution_count": null,
   "id": "b7ba07b4-d218-4316-8d25-1e12e22a07fd",
   "metadata": {},
   "outputs": [],
   "source": []
  }
 ],
 "metadata": {
  "kernelspec": {
   "display_name": "Python 3",
   "language": "python",
   "name": "python3"
  },
  "language_info": {
   "codemirror_mode": {
    "name": "ipython",
    "version": 3
   },
   "file_extension": ".py",
   "mimetype": "text/x-python",
   "name": "python",
   "nbconvert_exporter": "python",
   "pygments_lexer": "ipython3",
   "version": "3.9.4"
  }
 },
 "nbformat": 4,
 "nbformat_minor": 5
}
